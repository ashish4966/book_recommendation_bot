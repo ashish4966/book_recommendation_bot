{
  "nbformat": 4,
  "nbformat_minor": 0,
  "metadata": {
    "colab": {
      "provenance": []
    },
    "kernelspec": {
      "name": "python3",
      "display_name": "Python 3"
    },
    "language_info": {
      "name": "python"
    }
  },
  "cells": [
    {
      "cell_type": "code",
      "execution_count": null,
      "metadata": {
        "id": "-etskELmZm8_"
      },
      "outputs": [],
      "source": [
        "import requests\n",
        "from bs4 import BeautifulSoup\n",
        "import pandas as pd"
      ]
    },
    {
      "cell_type": "code",
      "source": [
        "category = input(\"Enter the searching category - Name of thr book / Genre / Author\")"
      ],
      "metadata": {
        "id": "FI_1iJUiZ8aF",
        "colab": {
          "base_uri": "https://localhost:8080/"
        },
        "outputId": "94f0d865-c812-4c74-c227-b7677d20c0e9"
      },
      "execution_count": null,
      "outputs": [
        {
          "name": "stdout",
          "output_type": "stream",
          "text": [
            "Enter the searching category - Name of thr book / Genre / Authormurder\n"
          ]
        }
      ]
    },
    {
      "cell_type": "code",
      "source": [
        "url = f\"https://www.goodreads.com/search?utf8=%E2%9C%93&q={category}&search_type=books\"\n"
      ],
      "metadata": {
        "id": "lwAVZNlTaaR3"
      },
      "execution_count": null,
      "outputs": []
    },
    {
      "cell_type": "code",
      "source": [
        "req = requests.get(url, headers = {'User-Agent':'Mozilla/5.0 (Windows NT 10.0; Win64; x64) AppleWebKit/537.36 (KHTML, like Gecko) Chrome/124.0.0.0 Safari/537.36'})\n",
        "print(req.status_code)\n",
        "content = BeautifulSoup(req.content, 'html.parser')"
      ],
      "metadata": {
        "id": "Qa5jY8JTakGV",
        "colab": {
          "base_uri": "https://localhost:8080/"
        },
        "outputId": "0df1ab25-e318-4918-9ed2-b247a0a4f891"
      },
      "execution_count": null,
      "outputs": [
        {
          "output_type": "stream",
          "name": "stdout",
          "text": [
            "200\n"
          ]
        }
      ]
    },
    {
      "cell_type": "code",
      "source": [
        "# products = content.find_all('table', {'class': 'tableList'})"
      ],
      "metadata": {
        "id": "iJVJlLnHbEX-"
      },
      "execution_count": null,
      "outputs": []
    },
    {
      "cell_type": "code",
      "source": [
        "# trs = content.find_all('tr', itemprop='http://schema.org/Book')"
      ],
      "metadata": {
        "id": "chJC7vhcAwUT"
      },
      "execution_count": null,
      "outputs": []
    },
    {
      "cell_type": "code",
      "source": [
        "books = content.find_all('a', class_='bookTitle')"
      ],
      "metadata": {
        "id": "8Pqjvo3OapZX"
      },
      "execution_count": null,
      "outputs": []
    },
    {
      "cell_type": "code",
      "source": [
        "authors = content.find_all('a', class_=\"authorName\")"
      ],
      "metadata": {
        "id": "8DS9ZzMEa7QV"
      },
      "execution_count": null,
      "outputs": []
    },
    {
      "cell_type": "code",
      "source": [
        "import csv"
      ],
      "metadata": {
        "id": "n7_a2sObckEh"
      },
      "execution_count": null,
      "outputs": []
    },
    {
      "cell_type": "code",
      "source": [
        "with open('output.csv', 'w', newline='', encoding='utf-8') as f:\n",
        "    writer = csv.writer(f)\n",
        "    writer.writerow(['Book', 'Author'])"
      ],
      "metadata": {
        "id": "DyDKD_zTcm2d"
      },
      "execution_count": null,
      "outputs": []
    },
    {
      "cell_type": "code",
      "source": [
        "for book in books:\n",
        "        book_name = book.find('span', itemprop='name').text.strip()\n",
        "        print(f\"Book Name: {book_name}\")"
      ],
      "metadata": {
        "colab": {
          "base_uri": "https://localhost:8080/"
        },
        "id": "FfdRpDfQawPI",
        "outputId": "13f65413-f069-4c2f-9e0a-e41bb31fb09d"
      },
      "execution_count": null,
      "outputs": [
        {
          "output_type": "stream",
          "name": "stdout",
          "text": [
            "Book Name: A Good Girl's Guide to Murder (A Good Girl's Guide to Murder, #1)\n",
            "Book Name: The Thursday Murder Club (Thursday Murder Club, #1)\n",
            "Book Name: Good Girl, Bad Blood (A Good Girl's Guide to Murder, #2)\n",
            "Book Name: Murder on the Orient Express (Hercule Poirot, #10)\n",
            "Book Name: Perfume: The Story of a Murderer\n",
            "Book Name: If You Tell: A True Story of Murder, Family Secrets, and the Unbreakable Bond of Sisterhood\n",
            "Book Name: As Good As Dead (A Good Girl's Guide to Murder, #3)\n",
            "Book Name: In the Woods (Dublin Murder Squad, #1)\n",
            "Book Name: Killers of the Flower Moon: The Osage Murders and the Birth of the FBI\n",
            "Book Name: 1st to Die (Women's Murder Club, #1)\n"
          ]
        }
      ]
    },
    {
      "cell_type": "code",
      "source": [
        "for author in authors:\n",
        "  author_name = author.find('span', itemprop='name').text.strip()\n",
        "  print(f\"Author Name: {author_name}\")"
      ],
      "metadata": {
        "colab": {
          "base_uri": "https://localhost:8080/"
        },
        "id": "-FhD7fsxbWBG",
        "outputId": "777d0b84-53ef-49e1-9326-b1b6d3ab2763"
      },
      "execution_count": null,
      "outputs": [
        {
          "output_type": "stream",
          "name": "stdout",
          "text": [
            "Author Name: Holly  Jackson\n",
            "Author Name: Richard Osman\n",
            "Author Name: Holly  Jackson\n",
            "Author Name: Agatha Christie\n",
            "Author Name: Patrick Süskind\n",
            "Author Name: Gregg Olsen\n",
            "Author Name: Holly  Jackson\n",
            "Author Name: Tana French\n",
            "Author Name: David Grann\n",
            "Author Name: James Patterson\n"
          ]
        }
      ]
    },
    {
      "cell_type": "code",
      "source": [
        "with open('output.csv', 'w', newline='', encoding='utf-8') as f:\n",
        "    writer = csv.writer(f)\n",
        "    writer.writerow(['Book', 'Author'])\n",
        "    for book, author in zip(books, authors):\n",
        "            book_name = book.find('span', itemprop='name').text.strip()\n",
        "            author_name = author.find('span', itemprop='name').text.strip()\n",
        "            print(f\"Book Name: {book_name}\")\n",
        "            print(f\"Author Name: {author_name}\")\n",
        "            writer.writerow([book_name, author_name])"
      ],
      "metadata": {
        "colab": {
          "base_uri": "https://localhost:8080/"
        },
        "id": "ev9Z2hkGdb5r",
        "outputId": "ccc0881c-bf2d-4ac5-d38c-4d4a4f5b52fe"
      },
      "execution_count": null,
      "outputs": [
        {
          "output_type": "stream",
          "name": "stdout",
          "text": [
            "Book Name: A Good Girl's Guide to Murder (A Good Girl's Guide to Murder, #1)\n",
            "Author Name: Holly  Jackson\n",
            "Book Name: The Thursday Murder Club (Thursday Murder Club, #1)\n",
            "Author Name: Richard Osman\n",
            "Book Name: Good Girl, Bad Blood (A Good Girl's Guide to Murder, #2)\n",
            "Author Name: Holly  Jackson\n",
            "Book Name: Murder on the Orient Express (Hercule Poirot, #10)\n",
            "Author Name: Agatha Christie\n",
            "Book Name: Perfume: The Story of a Murderer\n",
            "Author Name: Patrick Süskind\n",
            "Book Name: If You Tell: A True Story of Murder, Family Secrets, and the Unbreakable Bond of Sisterhood\n",
            "Author Name: Gregg Olsen\n",
            "Book Name: As Good As Dead (A Good Girl's Guide to Murder, #3)\n",
            "Author Name: Holly  Jackson\n",
            "Book Name: In the Woods (Dublin Murder Squad, #1)\n",
            "Author Name: Tana French\n",
            "Book Name: Killers of the Flower Moon: The Osage Murders and the Birth of the FBI\n",
            "Author Name: David Grann\n",
            "Book Name: 1st to Die (Women's Murder Club, #1)\n",
            "Author Name: James Patterson\n"
          ]
        }
      ]
    },
    {
      "cell_type": "code",
      "source": [],
      "metadata": {
        "id": "EufdQk1WXKMs"
      },
      "execution_count": null,
      "outputs": []
    },
    {
      "cell_type": "code",
      "source": [
        "df = pd.read_csv('output.csv')"
      ],
      "metadata": {
        "id": "1IEpU7Luduyw"
      },
      "execution_count": null,
      "outputs": []
    },
    {
      "cell_type": "code",
      "source": [
        "df.head()"
      ],
      "metadata": {
        "id": "oZp4M2OPeF8N",
        "outputId": "72c79724-99d5-43ec-c6a2-4f65a0cf3cc7",
        "colab": {
          "base_uri": "https://localhost:8080/",
          "height": 206
        }
      },
      "execution_count": null,
      "outputs": [
        {
          "output_type": "execute_result",
          "data": {
            "text/plain": [
              "                                                Book           Author\n",
              "0  A Good Girl's Guide to Murder (A Good Girl's G...   Holly  Jackson\n",
              "1  The Thursday Murder Club (Thursday Murder Club...    Richard Osman\n",
              "2  Good Girl, Bad Blood (A Good Girl's Guide to M...   Holly  Jackson\n",
              "3  Murder on the Orient Express (Hercule Poirot, ...  Agatha Christie\n",
              "4                   Perfume: The Story of a Murderer  Patrick Süskind"
            ],
            "text/html": [
              "\n",
              "  <div id=\"df-066667a6-6774-4cd7-9e3d-b8a6f7f16f45\" class=\"colab-df-container\">\n",
              "    <div>\n",
              "<style scoped>\n",
              "    .dataframe tbody tr th:only-of-type {\n",
              "        vertical-align: middle;\n",
              "    }\n",
              "\n",
              "    .dataframe tbody tr th {\n",
              "        vertical-align: top;\n",
              "    }\n",
              "\n",
              "    .dataframe thead th {\n",
              "        text-align: right;\n",
              "    }\n",
              "</style>\n",
              "<table border=\"1\" class=\"dataframe\">\n",
              "  <thead>\n",
              "    <tr style=\"text-align: right;\">\n",
              "      <th></th>\n",
              "      <th>Book</th>\n",
              "      <th>Author</th>\n",
              "    </tr>\n",
              "  </thead>\n",
              "  <tbody>\n",
              "    <tr>\n",
              "      <th>0</th>\n",
              "      <td>A Good Girl's Guide to Murder (A Good Girl's G...</td>\n",
              "      <td>Holly  Jackson</td>\n",
              "    </tr>\n",
              "    <tr>\n",
              "      <th>1</th>\n",
              "      <td>The Thursday Murder Club (Thursday Murder Club...</td>\n",
              "      <td>Richard Osman</td>\n",
              "    </tr>\n",
              "    <tr>\n",
              "      <th>2</th>\n",
              "      <td>Good Girl, Bad Blood (A Good Girl's Guide to M...</td>\n",
              "      <td>Holly  Jackson</td>\n",
              "    </tr>\n",
              "    <tr>\n",
              "      <th>3</th>\n",
              "      <td>Murder on the Orient Express (Hercule Poirot, ...</td>\n",
              "      <td>Agatha Christie</td>\n",
              "    </tr>\n",
              "    <tr>\n",
              "      <th>4</th>\n",
              "      <td>Perfume: The Story of a Murderer</td>\n",
              "      <td>Patrick Süskind</td>\n",
              "    </tr>\n",
              "  </tbody>\n",
              "</table>\n",
              "</div>\n",
              "    <div class=\"colab-df-buttons\">\n",
              "\n",
              "  <div class=\"colab-df-container\">\n",
              "    <button class=\"colab-df-convert\" onclick=\"convertToInteractive('df-066667a6-6774-4cd7-9e3d-b8a6f7f16f45')\"\n",
              "            title=\"Convert this dataframe to an interactive table.\"\n",
              "            style=\"display:none;\">\n",
              "\n",
              "  <svg xmlns=\"http://www.w3.org/2000/svg\" height=\"24px\" viewBox=\"0 -960 960 960\">\n",
              "    <path d=\"M120-120v-720h720v720H120Zm60-500h600v-160H180v160Zm220 220h160v-160H400v160Zm0 220h160v-160H400v160ZM180-400h160v-160H180v160Zm440 0h160v-160H620v160ZM180-180h160v-160H180v160Zm440 0h160v-160H620v160Z\"/>\n",
              "  </svg>\n",
              "    </button>\n",
              "\n",
              "  <style>\n",
              "    .colab-df-container {\n",
              "      display:flex;\n",
              "      gap: 12px;\n",
              "    }\n",
              "\n",
              "    .colab-df-convert {\n",
              "      background-color: #E8F0FE;\n",
              "      border: none;\n",
              "      border-radius: 50%;\n",
              "      cursor: pointer;\n",
              "      display: none;\n",
              "      fill: #1967D2;\n",
              "      height: 32px;\n",
              "      padding: 0 0 0 0;\n",
              "      width: 32px;\n",
              "    }\n",
              "\n",
              "    .colab-df-convert:hover {\n",
              "      background-color: #E2EBFA;\n",
              "      box-shadow: 0px 1px 2px rgba(60, 64, 67, 0.3), 0px 1px 3px 1px rgba(60, 64, 67, 0.15);\n",
              "      fill: #174EA6;\n",
              "    }\n",
              "\n",
              "    .colab-df-buttons div {\n",
              "      margin-bottom: 4px;\n",
              "    }\n",
              "\n",
              "    [theme=dark] .colab-df-convert {\n",
              "      background-color: #3B4455;\n",
              "      fill: #D2E3FC;\n",
              "    }\n",
              "\n",
              "    [theme=dark] .colab-df-convert:hover {\n",
              "      background-color: #434B5C;\n",
              "      box-shadow: 0px 1px 3px 1px rgba(0, 0, 0, 0.15);\n",
              "      filter: drop-shadow(0px 1px 2px rgba(0, 0, 0, 0.3));\n",
              "      fill: #FFFFFF;\n",
              "    }\n",
              "  </style>\n",
              "\n",
              "    <script>\n",
              "      const buttonEl =\n",
              "        document.querySelector('#df-066667a6-6774-4cd7-9e3d-b8a6f7f16f45 button.colab-df-convert');\n",
              "      buttonEl.style.display =\n",
              "        google.colab.kernel.accessAllowed ? 'block' : 'none';\n",
              "\n",
              "      async function convertToInteractive(key) {\n",
              "        const element = document.querySelector('#df-066667a6-6774-4cd7-9e3d-b8a6f7f16f45');\n",
              "        const dataTable =\n",
              "          await google.colab.kernel.invokeFunction('convertToInteractive',\n",
              "                                                    [key], {});\n",
              "        if (!dataTable) return;\n",
              "\n",
              "        const docLinkHtml = 'Like what you see? Visit the ' +\n",
              "          '<a target=\"_blank\" href=https://colab.research.google.com/notebooks/data_table.ipynb>data table notebook</a>'\n",
              "          + ' to learn more about interactive tables.';\n",
              "        element.innerHTML = '';\n",
              "        dataTable['output_type'] = 'display_data';\n",
              "        await google.colab.output.renderOutput(dataTable, element);\n",
              "        const docLink = document.createElement('div');\n",
              "        docLink.innerHTML = docLinkHtml;\n",
              "        element.appendChild(docLink);\n",
              "      }\n",
              "    </script>\n",
              "  </div>\n",
              "\n",
              "\n",
              "<div id=\"df-77eb2a27-ad55-4233-af17-3baac330a72b\">\n",
              "  <button class=\"colab-df-quickchart\" onclick=\"quickchart('df-77eb2a27-ad55-4233-af17-3baac330a72b')\"\n",
              "            title=\"Suggest charts\"\n",
              "            style=\"display:none;\">\n",
              "\n",
              "<svg xmlns=\"http://www.w3.org/2000/svg\" height=\"24px\"viewBox=\"0 0 24 24\"\n",
              "     width=\"24px\">\n",
              "    <g>\n",
              "        <path d=\"M19 3H5c-1.1 0-2 .9-2 2v14c0 1.1.9 2 2 2h14c1.1 0 2-.9 2-2V5c0-1.1-.9-2-2-2zM9 17H7v-7h2v7zm4 0h-2V7h2v10zm4 0h-2v-4h2v4z\"/>\n",
              "    </g>\n",
              "</svg>\n",
              "  </button>\n",
              "\n",
              "<style>\n",
              "  .colab-df-quickchart {\n",
              "      --bg-color: #E8F0FE;\n",
              "      --fill-color: #1967D2;\n",
              "      --hover-bg-color: #E2EBFA;\n",
              "      --hover-fill-color: #174EA6;\n",
              "      --disabled-fill-color: #AAA;\n",
              "      --disabled-bg-color: #DDD;\n",
              "  }\n",
              "\n",
              "  [theme=dark] .colab-df-quickchart {\n",
              "      --bg-color: #3B4455;\n",
              "      --fill-color: #D2E3FC;\n",
              "      --hover-bg-color: #434B5C;\n",
              "      --hover-fill-color: #FFFFFF;\n",
              "      --disabled-bg-color: #3B4455;\n",
              "      --disabled-fill-color: #666;\n",
              "  }\n",
              "\n",
              "  .colab-df-quickchart {\n",
              "    background-color: var(--bg-color);\n",
              "    border: none;\n",
              "    border-radius: 50%;\n",
              "    cursor: pointer;\n",
              "    display: none;\n",
              "    fill: var(--fill-color);\n",
              "    height: 32px;\n",
              "    padding: 0;\n",
              "    width: 32px;\n",
              "  }\n",
              "\n",
              "  .colab-df-quickchart:hover {\n",
              "    background-color: var(--hover-bg-color);\n",
              "    box-shadow: 0 1px 2px rgba(60, 64, 67, 0.3), 0 1px 3px 1px rgba(60, 64, 67, 0.15);\n",
              "    fill: var(--button-hover-fill-color);\n",
              "  }\n",
              "\n",
              "  .colab-df-quickchart-complete:disabled,\n",
              "  .colab-df-quickchart-complete:disabled:hover {\n",
              "    background-color: var(--disabled-bg-color);\n",
              "    fill: var(--disabled-fill-color);\n",
              "    box-shadow: none;\n",
              "  }\n",
              "\n",
              "  .colab-df-spinner {\n",
              "    border: 2px solid var(--fill-color);\n",
              "    border-color: transparent;\n",
              "    border-bottom-color: var(--fill-color);\n",
              "    animation:\n",
              "      spin 1s steps(1) infinite;\n",
              "  }\n",
              "\n",
              "  @keyframes spin {\n",
              "    0% {\n",
              "      border-color: transparent;\n",
              "      border-bottom-color: var(--fill-color);\n",
              "      border-left-color: var(--fill-color);\n",
              "    }\n",
              "    20% {\n",
              "      border-color: transparent;\n",
              "      border-left-color: var(--fill-color);\n",
              "      border-top-color: var(--fill-color);\n",
              "    }\n",
              "    30% {\n",
              "      border-color: transparent;\n",
              "      border-left-color: var(--fill-color);\n",
              "      border-top-color: var(--fill-color);\n",
              "      border-right-color: var(--fill-color);\n",
              "    }\n",
              "    40% {\n",
              "      border-color: transparent;\n",
              "      border-right-color: var(--fill-color);\n",
              "      border-top-color: var(--fill-color);\n",
              "    }\n",
              "    60% {\n",
              "      border-color: transparent;\n",
              "      border-right-color: var(--fill-color);\n",
              "    }\n",
              "    80% {\n",
              "      border-color: transparent;\n",
              "      border-right-color: var(--fill-color);\n",
              "      border-bottom-color: var(--fill-color);\n",
              "    }\n",
              "    90% {\n",
              "      border-color: transparent;\n",
              "      border-bottom-color: var(--fill-color);\n",
              "    }\n",
              "  }\n",
              "</style>\n",
              "\n",
              "  <script>\n",
              "    async function quickchart(key) {\n",
              "      const quickchartButtonEl =\n",
              "        document.querySelector('#' + key + ' button');\n",
              "      quickchartButtonEl.disabled = true;  // To prevent multiple clicks.\n",
              "      quickchartButtonEl.classList.add('colab-df-spinner');\n",
              "      try {\n",
              "        const charts = await google.colab.kernel.invokeFunction(\n",
              "            'suggestCharts', [key], {});\n",
              "      } catch (error) {\n",
              "        console.error('Error during call to suggestCharts:', error);\n",
              "      }\n",
              "      quickchartButtonEl.classList.remove('colab-df-spinner');\n",
              "      quickchartButtonEl.classList.add('colab-df-quickchart-complete');\n",
              "    }\n",
              "    (() => {\n",
              "      let quickchartButtonEl =\n",
              "        document.querySelector('#df-77eb2a27-ad55-4233-af17-3baac330a72b button');\n",
              "      quickchartButtonEl.style.display =\n",
              "        google.colab.kernel.accessAllowed ? 'block' : 'none';\n",
              "    })();\n",
              "  </script>\n",
              "</div>\n",
              "\n",
              "    </div>\n",
              "  </div>\n"
            ],
            "application/vnd.google.colaboratory.intrinsic+json": {
              "type": "dataframe",
              "variable_name": "df",
              "summary": "{\n  \"name\": \"df\",\n  \"rows\": 10,\n  \"fields\": [\n    {\n      \"column\": \"Book\",\n      \"properties\": {\n        \"dtype\": \"string\",\n        \"num_unique_values\": 10,\n        \"samples\": [\n          \"Killers of the Flower Moon: The Osage Murders and the Birth of the FBI\",\n          \"The Thursday Murder Club (Thursday Murder Club, #1)\",\n          \"If You Tell: A True Story of Murder, Family Secrets, and the Unbreakable Bond of Sisterhood\"\n        ],\n        \"semantic_type\": \"\",\n        \"description\": \"\"\n      }\n    },\n    {\n      \"column\": \"Author\",\n      \"properties\": {\n        \"dtype\": \"string\",\n        \"num_unique_values\": 8,\n        \"samples\": [\n          \"Richard Osman\",\n          \"Tana French\",\n          \"Holly  Jackson\"\n        ],\n        \"semantic_type\": \"\",\n        \"description\": \"\"\n      }\n    }\n  ]\n}"
            }
          },
          "metadata": {},
          "execution_count": 13
        }
      ]
    },
    {
      "cell_type": "code",
      "source": [],
      "metadata": {
        "id": "WWUE7vjdeH4j"
      },
      "execution_count": null,
      "outputs": []
    },
    {
      "cell_type": "markdown",
      "source": [],
      "metadata": {
        "id": "tNqh7m2UZ0re"
      }
    },
    {
      "cell_type": "markdown",
      "source": [],
      "metadata": {
        "id": "0oGRJ_WXZ1ks"
      }
    }
  ]
}