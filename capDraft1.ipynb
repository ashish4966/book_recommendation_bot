{
  "cells": [
    {
      "cell_type": "code",
      "execution_count": null,
      "metadata": {
        "id": "dPGk5l8RcxwQ"
      },
      "outputs": [],
      "source": [
        "import requests\n",
        "from bs4 import BeautifulSoup\n",
        "import pandas as pd\n",
        "import json\n",
        "import pickle\n"
      ]
    },
    {
      "cell_type": "code",
      "execution_count": null,
      "metadata": {
        "id": "8aRNGq87egsk"
      },
      "outputs": [],
      "source": [
        "def scrape_goodreads(category):\n",
        "    url = f\"https://www.goodreads.com/search?utf8=%E2%9C%93&q={category}&search_type=books\"\n",
        "    req = requests.get(url, headers={'User-Agent': 'Mozilla/5.0 (Windows NT 10.0; Win64; x64) AppleWebKit/537.36 (KHTML, like Gecko) Chrome/124.0.0.0 Safari/537.36'})\n",
        "\n",
        "    content = BeautifulSoup(req.content, 'html.parser')\n",
        "    books = content.find_all('a', class_='bookTitle')\n",
        "    authors = content.find_all('a', class_=\"authorName\")\n",
        "\n",
        "    data = []\n",
        "    for book, author in zip(books, authors):\n",
        "        book_name = book.find('span', itemprop='name').text.strip()\n",
        "        author_name = author.find('span', itemprop='name').text.strip()\n",
        "        data.append({'Book': book_name, 'Author': author_name})\n",
        "\n",
        "    return json.dumps(data, indent=4)"
      ]
    },
    {
      "cell_type": "code",
      "execution_count": null,
      "metadata": {
        "id": "m6oUeZVyekYQ"
      },
      "outputs": [],
      "source": [
        "# category = input(\"Enter the searching category - Name of the book / Genre / Author: \")\n",
        "# json_output = scrape_goodreads(category)\n",
        "# print(json_output)"
      ]
    },
    {
      "cell_type": "code",
      "execution_count": null,
      "metadata": {
        "colab": {
          "base_uri": "https://localhost:8080/"
        },
        "id": "y6ugaRR-ertB",
        "outputId": "473a34ab-c3d0-448b-91fe-0109256a10d1"
      },
      "outputs": [
        {
          "output_type": "stream",
          "name": "stderr",
          "text": [
            "[nltk_data] Downloading package punkt to /root/nltk_data...\n",
            "[nltk_data]   Package punkt is already up-to-date!\n",
            "[nltk_data] Downloading package wordnet to /root/nltk_data...\n",
            "[nltk_data]   Package wordnet is already up-to-date!\n"
          ]
        }
      ],
      "source": [
        "import random\n",
        "import numpy as np\n",
        "\n",
        "import nltk\n",
        "nltk.download('punkt')\n",
        "nltk.download('wordnet')\n",
        "from nltk.stem import WordNetLemmatizer\n",
        "lemmatizer = WordNetLemmatizer()\n",
        "\n",
        "from keras.models import Sequential\n",
        "from keras.layers import Dense, Activation, Dropout\n",
        "from keras.optimizers import SGD"
      ]
    },
    {
      "cell_type": "code",
      "execution_count": null,
      "metadata": {
        "id": "uTzZtsyXsDzh"
      },
      "outputs": [],
      "source": [
        "data_file = open('capstoneIndentPart1.json').read()\n",
        "intents = json.loads(data_file)"
      ]
    },
    {
      "cell_type": "code",
      "execution_count": null,
      "metadata": {
        "id": "-utLvVp1sfc3"
      },
      "outputs": [],
      "source": [
        "words=[]\n",
        "classes = []\n",
        "documents = []\n",
        "ignore_words = ['?', '!']"
      ]
    },
    {
      "cell_type": "code",
      "execution_count": null,
      "metadata": {
        "colab": {
          "base_uri": "https://localhost:8080/"
        },
        "id": "Pyr9npAPsj-y",
        "outputId": "80d1785f-72be-45fd-b55b-2a4e9d56bdaa"
      },
      "outputs": [
        {
          "output_type": "stream",
          "name": "stdout",
          "text": [
            "241 documents\n",
            "135 unique lemmatized words\n",
            "4 classes ['book_search', 'goodbye', 'greeting', 'thanks']\n"
          ]
        }
      ],
      "source": [
        "for intent in intents['intents']:\n",
        "    for pattern in intent['patterns']:\n",
        "\n",
        "        # take each word and tokenize it\n",
        "        w = nltk.word_tokenize(pattern)\n",
        "        words.extend(w)\n",
        "\n",
        "        # adding documents\n",
        "        documents.append((w, intent['tag']))\n",
        "\n",
        "        # adding classes to our class list\n",
        "        if intent['tag'] not in classes:\n",
        "            classes.append(intent['tag'])\n",
        "\n",
        "words = [lemmatizer.lemmatize(w.lower()) for w in words if w not in ignore_words]\n",
        "words = sorted(list(set(words)))\n",
        "\n",
        "classes = sorted(list(set(classes)))\n",
        "\n",
        "print (len(documents), \"documents\")\n",
        "print (len(words), \"unique lemmatized words\")\n",
        "print (len(classes), \"classes\", classes)"
      ]
    },
    {
      "cell_type": "code",
      "execution_count": null,
      "metadata": {
        "id": "9OAELdHTssBe"
      },
      "outputs": [],
      "source": [
        "# Create the training data\n",
        "training_data = []\n",
        "for doc in documents:\n",
        "    # Create a bag of words for each document\n",
        "    bag = [1 if word in doc[0] else 0 for word in words]\n",
        "    # Add the bag of words and the output row to the training data\n",
        "    training_data.append([bag, doc[1]])\n",
        "\n",
        "# Find the maximum length of any list in the training list\n",
        "max_length = max(len(bag) for bag, _ in training_data)\n",
        "\n",
        "# Pad all lists in the training list to the maximum length\n",
        "padded_training = [\n",
        "    (np.pad(bag, (0, max_length - len(bag)), 'constant'), output_row)\n",
        "    for bag, output_row in training_data\n",
        "]\n",
        "training = np.array(padded_training, dtype=object)"
      ]
    },
    {
      "cell_type": "code",
      "execution_count": null,
      "metadata": {
        "colab": {
          "base_uri": "https://localhost:8080/"
        },
        "id": "LEx6jwGrtDPH",
        "outputId": "6e284a93-e790-4439-fbc1-444c5741ba4e"
      },
      "outputs": [
        {
          "output_type": "stream",
          "name": "stdout",
          "text": [
            "Shape of train_x: (241, 135)\n",
            "Shape of train_y: (241, 4)\n"
          ]
        }
      ],
      "source": [
        "training = []\n",
        "output_empty = [0] * len(classes)\n",
        "for doc in documents:\n",
        "    # Correct bag of words creation\n",
        "    bag = [1 if w in doc[0] else 0 for w in words]  # This creates a list with 1 or 0 directly\n",
        "    output_row = list(output_empty)\n",
        "    output_row[classes.index(doc[1])] = 1\n",
        "    training.append([bag, output_row])\n",
        "\n",
        "# Shuffle and convert to numpy arrays\n",
        "random.shuffle(training)\n",
        "# Convert list of lists to numpy array properly\n",
        "train_x = np.array([np.array(elem[0]) for elem in training])\n",
        "train_y = np.array([np.array(elem[1]) for elem in training])\n",
        "\n",
        "# Now, print shapes to confirm\n",
        "print(\"Shape of train_x:\", train_x.shape)\n",
        "print(\"Shape of train_y:\", train_y.shape)"
      ]
    },
    {
      "cell_type": "code",
      "source": [
        "from sklearn.model_selection import train_test_split\n",
        "\n",
        "# Split the data into training and test sets\n",
        "train_x, test_x, train_y, test_y = train_test_split(train_x, train_y, test_size=0.3, random_state=42)\n",
        "\n",
        "# Print the shapes to verify\n",
        "print(f\"train_x shape: {train_x.shape}, train_y shape: {train_y.shape}\")\n",
        "print(f\"test_x shape: {test_x.shape}, test_y shape: {test_y.shape}\")"
      ],
      "metadata": {
        "colab": {
          "base_uri": "https://localhost:8080/"
        },
        "id": "u4r1C0uvrS1A",
        "outputId": "1a30eeb0-e70c-401b-ff19-036399724db8"
      },
      "execution_count": null,
      "outputs": [
        {
          "output_type": "stream",
          "name": "stdout",
          "text": [
            "train_x shape: (168, 135), train_y shape: (168, 4)\n",
            "test_x shape: (73, 135), test_y shape: (73, 4)\n"
          ]
        }
      ]
    },
    {
      "cell_type": "code",
      "execution_count": null,
      "metadata": {
        "colab": {
          "base_uri": "https://localhost:8080/"
        },
        "id": "8TMhwcUPtIV1",
        "outputId": "c07c5980-9f61-4adf-dc7c-897eabeffe46"
      },
      "outputs": [
        {
          "output_type": "stream",
          "name": "stderr",
          "text": [
            "WARNING:absl:`lr` is deprecated in Keras optimizer, please use `learning_rate` or use the legacy optimizer, e.g.,tf.keras.optimizers.legacy.SGD.\n"
          ]
        }
      ],
      "source": [
        "# Build the model\n",
        "model = Sequential([\n",
        "    Dense(128, input_shape=(len(train_x[0]),), activation='relu'),\n",
        "    Dropout(0.5),\n",
        "    Dense(64, activation='relu'),\n",
        "    Dropout(0.5),\n",
        "    Dense(len(train_y[0]), activation='softmax')\n",
        "])\n",
        "\n",
        "sgd = SGD(lr=0.01, momentum=0.9, nesterov=True)\n",
        "model.compile(loss='categorical_crossentropy', optimizer=sgd, metrics=['accuracy'])"
      ]
    },
    {
      "cell_type": "code",
      "source": [
        "from tensorflow.keras.callbacks import EarlyStopping\n",
        "from sklearn.model_selection import StratifiedKFold\n",
        "import numpy as np\n",
        "import matplotlib.pyplot as plt\n",
        "\n",
        "# Define the number of splits for k-fold cross-validation\n",
        "n_splits = 10\n",
        "\n",
        "# Initialize the Stratified K-Folds cross-validator\n",
        "skf = StratifiedKFold(n_splits=n_splits, shuffle=True, random_state=42)\n",
        "\n",
        "# Initialize lists to store the accuracy scores and history objects\n",
        "scores = []\n",
        "all_history = []\n",
        "\n",
        "# Define early stopping callback\n",
        "early_stopping = EarlyStopping(monitor='val_loss', patience=3, restore_best_weights=True, verbose = 1)\n",
        "\n",
        "# Perform k-fold cross-validation\n",
        "for train_index, test_index in skf.split(train_x, np.argmax(train_y, axis=1)):\n",
        "    X_train, X_test = train_x[train_index], train_x[test_index]\n",
        "    y_train, y_test = train_y[train_index], train_y[test_index]\n",
        "\n",
        "\n",
        "    # Fit the model on the training data and store the history\n",
        "    history = model.fit(X_train, y_train, epochs=50, batch_size=8, verbose=1,\n",
        "                        validation_data=(X_test, y_test), callbacks=[early_stopping])\n",
        "    all_history.append(history)\n",
        "\n",
        "    # Evaluate the model on the test data\n",
        "    score = model.evaluate(X_test, y_test, verbose=0)\n",
        "    scores.append(score[1])\n",
        "\n",
        "# Calculate and print the mean accuracy and standard deviation\n",
        "print(f\"Mean Accuracy: {np.mean(scores):.4f}, StdDev: {np.std(scores):.4f}\")\n",
        "\n",
        "# Plot the training and validation loss for each fold\n",
        "for i, history in enumerate(all_history):\n",
        "    plt.plot(history.history['loss'], label=f\"Fold {i+1}\")\n",
        "\n",
        "plt.xlabel('Epoch')\n",
        "plt.ylabel('Loss')\n",
        "plt.title('Training and Validation Loss')\n",
        "plt.legend()\n",
        "plt.show()\n",
        "\n"
      ],
      "metadata": {
        "colab": {
          "base_uri": "https://localhost:8080/",
          "height": 1000
        },
        "id": "uhpKX8FNrZ93",
        "outputId": "7fb0ed6a-6a14-41ee-c393-3394a79d6db8"
      },
      "execution_count": null,
      "outputs": [
        {
          "output_type": "stream",
          "name": "stdout",
          "text": [
            "Epoch 1/50\n",
            "19/19 [==============================] - 1s 35ms/step - loss: 0.3512 - accuracy: 0.8411 - val_loss: 0.0953 - val_accuracy: 1.0000\n",
            "Epoch 2/50\n",
            "19/19 [==============================] - 0s 17ms/step - loss: 0.3414 - accuracy: 0.8742 - val_loss: 0.0958 - val_accuracy: 1.0000\n",
            "Epoch 3/50\n",
            "19/19 [==============================] - 0s 17ms/step - loss: 0.3527 - accuracy: 0.8675 - val_loss: 0.1047 - val_accuracy: 1.0000\n",
            "Epoch 4/50\n",
            "13/19 [===================>..........] - ETA: 0s - loss: 0.3198 - accuracy: 0.8846Restoring model weights from the end of the best epoch: 1.\n",
            "19/19 [==============================] - 0s 16ms/step - loss: 0.3141 - accuracy: 0.8742 - val_loss: 0.1013 - val_accuracy: 1.0000\n",
            "Epoch 4: early stopping\n",
            "Epoch 1/50\n",
            "19/19 [==============================] - 1s 35ms/step - loss: 0.2927 - accuracy: 0.8742 - val_loss: 0.3850 - val_accuracy: 0.8824\n",
            "Epoch 2/50\n",
            "19/19 [==============================] - 0s 11ms/step - loss: 0.3072 - accuracy: 0.8940 - val_loss: 0.3666 - val_accuracy: 0.8824\n",
            "Epoch 3/50\n",
            "19/19 [==============================] - 0s 10ms/step - loss: 0.2868 - accuracy: 0.8940 - val_loss: 0.3696 - val_accuracy: 0.8824\n",
            "Epoch 4/50\n",
            "19/19 [==============================] - 0s 11ms/step - loss: 0.3310 - accuracy: 0.8675 - val_loss: 0.3897 - val_accuracy: 0.8824\n",
            "Epoch 5/50\n",
            "16/19 [========================>.....] - ETA: 0s - loss: 0.2819 - accuracy: 0.8906Restoring model weights from the end of the best epoch: 2.\n",
            "19/19 [==============================] - 0s 9ms/step - loss: 0.2828 - accuracy: 0.8874 - val_loss: 0.3771 - val_accuracy: 0.8824\n",
            "Epoch 5: early stopping\n",
            "Epoch 1/50\n",
            "19/19 [==============================] - 0s 15ms/step - loss: 0.3306 - accuracy: 0.8543 - val_loss: 0.2621 - val_accuracy: 0.9412\n",
            "Epoch 2/50\n",
            "19/19 [==============================] - 0s 10ms/step - loss: 0.3118 - accuracy: 0.8742 - val_loss: 0.2631 - val_accuracy: 0.9412\n",
            "Epoch 3/50\n",
            "19/19 [==============================] - 0s 7ms/step - loss: 0.3497 - accuracy: 0.8543 - val_loss: 0.2495 - val_accuracy: 0.9412\n",
            "Epoch 4/50\n",
            "19/19 [==============================] - 0s 8ms/step - loss: 0.3084 - accuracy: 0.8808 - val_loss: 0.2968 - val_accuracy: 0.9412\n",
            "Epoch 5/50\n",
            "19/19 [==============================] - 0s 15ms/step - loss: 0.3059 - accuracy: 0.8808 - val_loss: 0.2670 - val_accuracy: 0.9412\n",
            "Epoch 6/50\n",
            "18/19 [===========================>..] - ETA: 0s - loss: 0.2841 - accuracy: 0.8889Restoring model weights from the end of the best epoch: 3.\n",
            "19/19 [==============================] - 0s 19ms/step - loss: 0.2910 - accuracy: 0.8874 - val_loss: 0.2806 - val_accuracy: 0.9412\n",
            "Epoch 6: early stopping\n",
            "Epoch 1/50\n",
            "19/19 [==============================] - 0s 6ms/step - loss: 0.3123 - accuracy: 0.8808 - val_loss: 0.2261 - val_accuracy: 0.8824\n",
            "Epoch 2/50\n",
            "19/19 [==============================] - 0s 4ms/step - loss: 0.3131 - accuracy: 0.8675 - val_loss: 0.2362 - val_accuracy: 0.8824\n",
            "Epoch 3/50\n",
            "19/19 [==============================] - 0s 4ms/step - loss: 0.3194 - accuracy: 0.8808 - val_loss: 0.2267 - val_accuracy: 0.8824\n",
            "Epoch 4/50\n",
            "19/19 [==============================] - 0s 5ms/step - loss: 0.3384 - accuracy: 0.8808 - val_loss: 0.2132 - val_accuracy: 0.8824\n",
            "Epoch 5/50\n",
            "19/19 [==============================] - 0s 4ms/step - loss: 0.3031 - accuracy: 0.8940 - val_loss: 0.2177 - val_accuracy: 0.8824\n",
            "Epoch 6/50\n",
            "19/19 [==============================] - 0s 5ms/step - loss: 0.3190 - accuracy: 0.8808 - val_loss: 0.2326 - val_accuracy: 0.8824\n",
            "Epoch 7/50\n",
            " 1/19 [>.............................] - ETA: 0s - loss: 0.0924 - accuracy: 1.0000Restoring model weights from the end of the best epoch: 4.\n",
            "19/19 [==============================] - 0s 5ms/step - loss: 0.2917 - accuracy: 0.8940 - val_loss: 0.2359 - val_accuracy: 0.8824\n",
            "Epoch 7: early stopping\n",
            "Epoch 1/50\n",
            "19/19 [==============================] - 0s 6ms/step - loss: 0.3238 - accuracy: 0.8874 - val_loss: 0.0923 - val_accuracy: 0.9412\n",
            "Epoch 2/50\n",
            "19/19 [==============================] - 0s 4ms/step - loss: 0.3124 - accuracy: 0.8874 - val_loss: 0.1018 - val_accuracy: 0.9412\n",
            "Epoch 3/50\n",
            "19/19 [==============================] - 0s 5ms/step - loss: 0.3555 - accuracy: 0.8609 - val_loss: 0.0893 - val_accuracy: 0.9412\n",
            "Epoch 4/50\n",
            "19/19 [==============================] - 0s 4ms/step - loss: 0.3196 - accuracy: 0.8675 - val_loss: 0.0902 - val_accuracy: 0.9412\n",
            "Epoch 5/50\n",
            "19/19 [==============================] - 0s 4ms/step - loss: 0.3200 - accuracy: 0.8808 - val_loss: 0.1017 - val_accuracy: 0.9412\n",
            "Epoch 6/50\n",
            " 1/19 [>.............................] - ETA: 0s - loss: 0.0350 - accuracy: 1.0000Restoring model weights from the end of the best epoch: 3.\n",
            "19/19 [==============================] - 0s 4ms/step - loss: 0.3114 - accuracy: 0.8874 - val_loss: 0.0980 - val_accuracy: 0.9412\n",
            "Epoch 6: early stopping\n",
            "Epoch 1/50\n",
            "19/19 [==============================] - 0s 7ms/step - loss: 0.2873 - accuracy: 0.9007 - val_loss: 0.4114 - val_accuracy: 0.8235\n",
            "Epoch 2/50\n",
            "19/19 [==============================] - 0s 4ms/step - loss: 0.2722 - accuracy: 0.9007 - val_loss: 0.4089 - val_accuracy: 0.8235\n",
            "Epoch 3/50\n",
            "19/19 [==============================] - 0s 4ms/step - loss: 0.2752 - accuracy: 0.9007 - val_loss: 0.4205 - val_accuracy: 0.8235\n",
            "Epoch 4/50\n",
            "19/19 [==============================] - 0s 3ms/step - loss: 0.2886 - accuracy: 0.8808 - val_loss: 0.4192 - val_accuracy: 0.8235\n",
            "Epoch 5/50\n",
            " 1/19 [>.............................] - ETA: 0s - loss: 0.4062 - accuracy: 0.8750Restoring model weights from the end of the best epoch: 2.\n",
            "19/19 [==============================] - 0s 5ms/step - loss: 0.3010 - accuracy: 0.8940 - val_loss: 0.4119 - val_accuracy: 0.8235\n",
            "Epoch 5: early stopping\n",
            "Epoch 1/50\n",
            "19/19 [==============================] - 0s 7ms/step - loss: 0.3249 - accuracy: 0.8675 - val_loss: 0.2881 - val_accuracy: 0.8824\n",
            "Epoch 2/50\n",
            "19/19 [==============================] - 0s 4ms/step - loss: 0.2898 - accuracy: 0.8940 - val_loss: 0.3040 - val_accuracy: 0.8824\n",
            "Epoch 3/50\n",
            "19/19 [==============================] - 0s 4ms/step - loss: 0.3083 - accuracy: 0.9007 - val_loss: 0.3033 - val_accuracy: 0.8824\n",
            "Epoch 4/50\n",
            " 1/19 [>.............................] - ETA: 0s - loss: 0.1990 - accuracy: 0.8750Restoring model weights from the end of the best epoch: 1.\n",
            "19/19 [==============================] - 0s 5ms/step - loss: 0.3042 - accuracy: 0.8742 - val_loss: 0.3070 - val_accuracy: 0.8824\n",
            "Epoch 4: early stopping\n",
            "Epoch 1/50\n",
            "19/19 [==============================] - 0s 8ms/step - loss: 0.2877 - accuracy: 0.9007 - val_loss: 0.3431 - val_accuracy: 0.8235\n",
            "Epoch 2/50\n",
            "19/19 [==============================] - 0s 4ms/step - loss: 0.2805 - accuracy: 0.9007 - val_loss: 0.3321 - val_accuracy: 0.8235\n",
            "Epoch 3/50\n",
            "19/19 [==============================] - 0s 4ms/step - loss: 0.2889 - accuracy: 0.9007 - val_loss: 0.3337 - val_accuracy: 0.8235\n",
            "Epoch 4/50\n",
            "19/19 [==============================] - 0s 5ms/step - loss: 0.2894 - accuracy: 0.8874 - val_loss: 0.3331 - val_accuracy: 0.8235\n",
            "Epoch 5/50\n",
            "19/19 [==============================] - 0s 5ms/step - loss: 0.2752 - accuracy: 0.9007 - val_loss: 0.3260 - val_accuracy: 0.8235\n",
            "Epoch 6/50\n",
            "19/19 [==============================] - 0s 4ms/step - loss: 0.2542 - accuracy: 0.9007 - val_loss: 0.3333 - val_accuracy: 0.8235\n",
            "Epoch 7/50\n",
            "19/19 [==============================] - 0s 5ms/step - loss: 0.2626 - accuracy: 0.9007 - val_loss: 0.3312 - val_accuracy: 0.8235\n",
            "Epoch 8/50\n",
            "19/19 [==============================] - 0s 5ms/step - loss: 0.2833 - accuracy: 0.8940 - val_loss: 0.3168 - val_accuracy: 0.8235\n",
            "Epoch 9/50\n",
            "19/19 [==============================] - 0s 4ms/step - loss: 0.3153 - accuracy: 0.8675 - val_loss: 0.3253 - val_accuracy: 0.8235\n",
            "Epoch 10/50\n",
            "19/19 [==============================] - 0s 5ms/step - loss: 0.2738 - accuracy: 0.8940 - val_loss: 0.3161 - val_accuracy: 0.8235\n",
            "Epoch 11/50\n",
            "19/19 [==============================] - 0s 5ms/step - loss: 0.3009 - accuracy: 0.9007 - val_loss: 0.3204 - val_accuracy: 0.8235\n",
            "Epoch 12/50\n",
            "19/19 [==============================] - 0s 4ms/step - loss: 0.2870 - accuracy: 0.9007 - val_loss: 0.3336 - val_accuracy: 0.8235\n",
            "Epoch 13/50\n",
            " 1/19 [>.............................] - ETA: 0s - loss: 0.1016 - accuracy: 1.0000Restoring model weights from the end of the best epoch: 10.\n",
            "19/19 [==============================] - 0s 5ms/step - loss: 0.2709 - accuracy: 0.8940 - val_loss: 0.3315 - val_accuracy: 0.8235\n",
            "Epoch 13: early stopping\n",
            "Epoch 1/50\n",
            "19/19 [==============================] - 0s 8ms/step - loss: 0.3124 - accuracy: 0.8618 - val_loss: 0.0508 - val_accuracy: 1.0000\n",
            "Epoch 2/50\n",
            "19/19 [==============================] - 0s 4ms/step - loss: 0.2928 - accuracy: 0.8684 - val_loss: 0.0515 - val_accuracy: 1.0000\n",
            "Epoch 3/50\n",
            "19/19 [==============================] - 0s 5ms/step - loss: 0.3120 - accuracy: 0.8618 - val_loss: 0.0498 - val_accuracy: 1.0000\n",
            "Epoch 4/50\n",
            "19/19 [==============================] - 0s 4ms/step - loss: 0.3112 - accuracy: 0.9013 - val_loss: 0.0670 - val_accuracy: 1.0000\n",
            "Epoch 5/50\n",
            "19/19 [==============================] - 0s 4ms/step - loss: 0.3015 - accuracy: 0.8750 - val_loss: 0.0531 - val_accuracy: 1.0000\n",
            "Epoch 6/50\n",
            "19/19 [==============================] - 0s 4ms/step - loss: 0.3194 - accuracy: 0.8750 - val_loss: 0.0466 - val_accuracy: 1.0000\n",
            "Epoch 7/50\n",
            "19/19 [==============================] - 0s 5ms/step - loss: 0.3143 - accuracy: 0.8750 - val_loss: 0.0493 - val_accuracy: 1.0000\n",
            "Epoch 8/50\n",
            "19/19 [==============================] - 0s 5ms/step - loss: 0.3115 - accuracy: 0.8750 - val_loss: 0.0503 - val_accuracy: 1.0000\n",
            "Epoch 9/50\n",
            " 1/19 [>.............................] - ETA: 0s - loss: 0.1775 - accuracy: 1.0000Restoring model weights from the end of the best epoch: 6.\n",
            "19/19 [==============================] - 0s 5ms/step - loss: 0.3236 - accuracy: 0.8750 - val_loss: 0.0638 - val_accuracy: 1.0000\n",
            "Epoch 9: early stopping\n",
            "Epoch 1/50\n",
            "19/19 [==============================] - 0s 12ms/step - loss: 0.2389 - accuracy: 0.9079 - val_loss: 0.6101 - val_accuracy: 0.7500\n",
            "Epoch 2/50\n",
            "19/19 [==============================] - 0s 7ms/step - loss: 0.2431 - accuracy: 0.9079 - val_loss: 0.6351 - val_accuracy: 0.7500\n",
            "Epoch 3/50\n",
            "19/19 [==============================] - 0s 6ms/step - loss: 0.2528 - accuracy: 0.9013 - val_loss: 0.6248 - val_accuracy: 0.7500\n",
            "Epoch 4/50\n",
            "19/19 [==============================] - ETA: 0s - loss: 0.2289 - accuracy: 0.9145Restoring model weights from the end of the best epoch: 1.\n",
            "19/19 [==============================] - 0s 7ms/step - loss: 0.2289 - accuracy: 0.9145 - val_loss: 0.6339 - val_accuracy: 0.7500\n",
            "Epoch 4: early stopping\n",
            "Mean Accuracy: 0.8926, StdDev: 0.0761\n"
          ]
        },
        {
          "output_type": "display_data",
          "data": {
            "text/plain": [
              "<Figure size 640x480 with 1 Axes>"
            ],
            "image/png": "[encoded data removed]"
          },
          "metadata": {}
        }
      ]
    },
    {
      "cell_type": "code",
      "source": [
        "loss, accuracy = model.evaluate(test_x, test_y, verbose=1)\n",
        "\n",
        "print(f\"Test Loss: {loss:.4f}, Test Accuracy: {accuracy:.4f}\")"
      ],
      "metadata": {
        "colab": {
          "base_uri": "https://localhost:8080/"
        },
        "id": "flF98QwFr36H",
        "outputId": "cac2c45f-161a-43f7-9dd2-b35b24dd249f"
      },
      "execution_count": null,
      "outputs": [
        {
          "output_type": "stream",
          "name": "stdout",
          "text": [
            "3/3 [==============================] - 0s 5ms/step - loss: 0.2648 - accuracy: 0.9178\n",
            "Test Loss: 0.2648, Test Accuracy: 0.9178\n"
          ]
        }
      ]
    },
    {
      "cell_type": "code",
      "execution_count": null,
      "metadata": {
        "colab": {
          "base_uri": "https://localhost:8080/"
        },
        "id": "dey2MBIztNsq",
        "outputId": "8b1d7d19-fb80-4fbb-975d-d398c8c9fb42"
      },
      "outputs": [
        {
          "output_type": "stream",
          "name": "stdout",
          "text": [
            "Model Created\n"
          ]
        },
        {
          "output_type": "stream",
          "name": "stderr",
          "text": [
            "/usr/local/lib/python3.10/dist-packages/keras/src/engine/training.py:3103: UserWarning: You are saving your model as an HDF5 file via `model.save()`. This file format is considered legacy. We recommend using instead the native Keras format, e.g. `model.save('my_model.keras')`.\n",
            "  saving_api.save_model(\n"
          ]
        }
      ],
      "source": [
        "# Fit model\n",
        "# hist = model.fit(train_x, train_y, epochs=500, batch_size=5, verbose=1)\n",
        "\n",
        "# Save model\n",
        "model.save('chatbot_model.h5')\n",
        "\n",
        "print(\"Model Created\")"
      ]
    },
    {
      "cell_type": "code",
      "execution_count": null,
      "metadata": {
        "id": "O3JxFrhbtUNl"
      },
      "outputs": [],
      "source": [
        "def clean_up_sentence(sentence):\n",
        "    sentence_words = nltk.word_tokenize(sentence)\n",
        "    sentence_words = [lemmatizer.lemmatize(word.lower()) for word in sentence_words]\n",
        "\n",
        "    return sentence_words"
      ]
    },
    {
      "cell_type": "code",
      "execution_count": null,
      "metadata": {
        "id": "XMHOz8QwfMzn"
      },
      "outputs": [],
      "source": [
        "def bow(sentence, words, show_details=True):\n",
        "    # tokenize the pattern\n",
        "    sentence_words = clean_up_sentence(sentence)\n",
        "\n",
        "    # bag of words - matrix of N words, vocabulary matrix\n",
        "    bag = [0] * len(words)\n",
        "    for s in sentence_words:\n",
        "        for i, w in enumerate(words):\n",
        "            if w == s:\n",
        "\n",
        "                # assign 1 if current word is in the vocabulary position\n",
        "                bag[i] = 1\n",
        "                if show_details:\n",
        "                    print (\"found in bag: %s\" % w)\n",
        "\n",
        "    return(np.array(bag))"
      ]
    },
    {
      "cell_type": "code",
      "execution_count": null,
      "metadata": {
        "id": "WONlyF8xfPqx"
      },
      "outputs": [],
      "source": [
        "def predict_class(sentence, model):\n",
        "    # filter out predictions below a threshold\n",
        "    p = bow(sentence, words,show_details=False)\n",
        "    res = model.predict(np.array([p]))[0]\n",
        "    ERROR_THRESHOLD = 0.35\n",
        "    results = [[i, r] for i, r in enumerate(res) if r > ERROR_THRESHOLD]\n",
        "\n",
        "    # sort by strength of probability\n",
        "    results.sort(key=lambda x: x[1], reverse=True)\n",
        "    return_list = []\n",
        "    for r in results:\n",
        "        return_list.append({\"intent\": classes[r[0]], \"probability\": str(r[1])})\n",
        "\n",
        "    return return_list"
      ]
    },
    {
      "cell_type": "code",
      "execution_count": null,
      "metadata": {
        "id": "EkYp9aBsfSEb"
      },
      "outputs": [],
      "source": [
        "def getResponse(ints, intents_json):\n",
        "    tag = ints[0]['intent']\n",
        "    list_of_intents = intents_json['intents']\n",
        "    for i in list_of_intents:\n",
        "        if(i['tag']== tag):\n",
        "            if tag == 'book_search':\n",
        "              category = input(\"Sure, I'd be happy to recommend a book. What type of book are you in the mood for? \")\n",
        "              result = scrape_goodreads(category)\n",
        "            else:\n",
        "              result = random.choice(i['responses'])\n",
        "            break\n",
        "\n",
        "    return result"
      ]
    },
    {
      "cell_type": "code",
      "execution_count": null,
      "metadata": {
        "id": "4KWIcE8PfV4v"
      },
      "outputs": [],
      "source": [
        "def chatbot_response(msg):\n",
        "    ints = predict_class(msg, model)\n",
        "    res = getResponse(ints, intents)\n",
        "    return res"
      ]
    },
    {
      "cell_type": "code",
      "execution_count": null,
      "metadata": {
        "colab": {
          "base_uri": "https://localhost:8080/",
          "height": 53
        },
        "id": "6cn7icJ4fY-K",
        "outputId": "89a39bd5-44c5-42fe-cdc6-6576e1963063"
      },
      "outputs": [
        {
          "output_type": "stream",
          "name": "stdout",
          "text": [
            "1/1 [==============================] - 0s 42ms/step\n"
          ]
        },
        {
          "output_type": "execute_result",
          "data": {
            "text/plain": [
              "\"You're welcome! If you need assistance, feel free to ask.\""
            ],
            "application/vnd.google.colaboratory.intrinsic+json": {
              "type": "string"
            }
          },
          "metadata": {},
          "execution_count": 351
        }
      ],
      "source": [
        "chatbot_response('thank you')"
      ]
    },
    {
      "cell_type": "code",
      "execution_count": null,
      "metadata": {
        "id": "3HYNjacZfbIS"
      },
      "outputs": [],
      "source": []
    }
  ],
  "metadata": {
    "colab": {
      "provenance": []
    },
    "kernelspec": {
      "display_name": "Python 3",
      "name": "python3"
    },
    "language_info": {
      "name": "python"
    }
  },
  "nbformat": 4,
  "nbformat_minor": 0
}